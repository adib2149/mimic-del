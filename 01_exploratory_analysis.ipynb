{
 "cells": [
  {
   "cell_type": "markdown",
   "metadata": {},
   "source": [
    "- [ ] Define treatment\n",
    "- [ ] Define outcomes\n",
    " - [ ] primary outcomes\n",
    " - [ ] secondary outcomes\n",
    "- [ ] compare outcomes with covariates\n",
    " - [ ] present in a table, like other papers"
   ]
  },
  {
   "cell_type": "code",
   "execution_count": 1,
   "metadata": {},
   "outputs": [],
   "source": [
    "import pandas as pd\n",
    "import matplotlib.pyplot as plt\n",
    "import numpy as np\n",
    "%matplotlib inline"
   ]
  },
  {
   "cell_type": "code",
   "execution_count": 2,
   "metadata": {},
   "outputs": [],
   "source": [
    "# set font\n",
    "plt.rcParams['font.family'] = 'sans-serif'\n",
    "plt.rcParams['font.sans-serif'] = 'Helvetica'\n",
    "\n",
    "# set the style of the axes and the text color\n",
    "plt.rcParams['axes.edgecolor']='#333F4B'\n",
    "plt.rcParams['axes.linewidth']=0.8\n",
    "plt.rcParams['xtick.color']='#333F4B'\n",
    "plt.rcParams['ytick.color']='#333F4B'\n",
    "plt.rcParams['text.color']='#333F4B'"
   ]
  },
  {
   "cell_type": "code",
   "execution_count": 3,
   "metadata": {},
   "outputs": [
    {
     "data": {
      "text/plain": [
       "(1671, 31)"
      ]
     },
     "execution_count": 3,
     "metadata": {},
     "output_type": "execute_result"
    }
   ],
   "source": [
    "data = pd.read_csv(\"delirium_data_cleaned.csv\")\n",
    "data.shape"
   ]
  },
  {
   "cell_type": "code",
   "execution_count": 4,
   "metadata": {},
   "outputs": [
    {
     "data": {
      "text/plain": [
       "Index(['subject_id', 'hadm_id', 'icustay_id', 'sex', 'age', 'race',\n",
       "       'icd9_codes', 'sofa', 'apsiii', 'surgery', 'pneumonia', 'sepsis',\n",
       "       'dementia', 'alzheimers', 'depression', 'anxiety', 'met_acidosis',\n",
       "       'airway_obs', 'copd', 'liver_disease', 'heart_disease', 'mechvent',\n",
       "       'mechvent_count', 'drug_group', 'drug_categories_distinct_count',\n",
       "       'drug_timelength', 'death_hosp', 'death_timeline', 'los_days',\n",
       "       'time_to_mechvent', 'time_in_mechvent'],\n",
       "      dtype='object')"
      ]
     },
     "execution_count": 4,
     "metadata": {},
     "output_type": "execute_result"
    }
   ],
   "source": [
    "data.columns"
   ]
  },
  {
   "cell_type": "code",
   "execution_count": 5,
   "metadata": {},
   "outputs": [
    {
     "name": "stdout",
     "output_type": "stream",
     "text": [
      "Subject count: 1398\n",
      "Hosp Adm count: 1445\n",
      "ICU Stay count: 1666\n"
     ]
    }
   ],
   "source": [
    "print(\"Subject count:\", len(data.subject_id.unique()))\n",
    "print(\"Hosp Adm count:\", len(data.hadm_id.unique()))\n",
    "print(\"ICU Stay count:\", len(data.icustay_id.unique()))"
   ]
  },
  {
   "cell_type": "code",
   "execution_count": 6,
   "metadata": {},
   "outputs": [
    {
     "name": "stdout",
     "output_type": "stream",
     "text": [
      "drug_group\n",
      "HL    672\n",
      "ND    461\n",
      "OD    535\n",
      "Name: icustay_id, dtype: int64\n"
     ]
    }
   ],
   "source": [
    "print(data.groupby(\"drug_group\")[\"icustay_id\"].nunique())"
   ]
  },
  {
   "cell_type": "code",
   "execution_count": 7,
   "metadata": {},
   "outputs": [
    {
     "name": "stdout",
     "output_type": "stream",
     "text": [
      "673 462 536\n"
     ]
    }
   ],
   "source": [
    "print(data[data['drug_group'] == 'HL'].shape[0], data[data['drug_group'] == 'ND'].shape[0], data[data['drug_group'] == 'OD'].shape[0])"
   ]
  },
  {
   "cell_type": "code",
   "execution_count": 8,
   "metadata": {},
   "outputs": [
    {
     "name": "stdout",
     "output_type": "stream",
     "text": [
      "970 701\n"
     ]
    }
   ],
   "source": [
    "print(data[data['sex'] == 'M'].shape[0], data[data['sex'] == 'F'].shape[0])"
   ]
  },
  {
   "cell_type": "code",
   "execution_count": 9,
   "metadata": {},
   "outputs": [
    {
     "name": "stdout",
     "output_type": "stream",
     "text": [
      "375 484 1035 97\n"
     ]
    }
   ],
   "source": [
    "print(data[data['sepsis'] == 1].shape[0], data[data['pneumonia'] == 1].shape[0], data[data['heart_disease'] == 1].shape[0], data[data['liver_disease'] == 1].shape[0]) \n"
   ]
  },
  {
   "cell_type": "code",
   "execution_count": 10,
   "metadata": {},
   "outputs": [
    {
     "name": "stdout",
     "output_type": "stream",
     "text": [
      "death_timeline\n",
      "-1    821\n",
      " 1    311\n",
      " 2    108\n",
      " 3    175\n",
      " 4    253\n",
      "Name: icustay_id, dtype: int64\n"
     ]
    }
   ],
   "source": [
    "print(data.groupby(\"death_timeline\")[\"icustay_id\"].nunique())"
   ]
  },
  {
   "cell_type": "markdown",
   "metadata": {},
   "source": [
    "sex---count of cat. / percent female\n",
    "race---count of cat.\n",
    "\n",
    "age---mean+-sd\n",
    "icd9 codes---X\n",
    "sofa ---score-mean+-sd\n",
    "apsiii---score-mean+-sd\n",
    "\n",
    "surgery---count (percent)\n",
    "pneumonia---count (percent) \n",
    "sepsis---count (percent)\n",
    "dementia---count (percent)\n",
    "alzheimers---count (percent)\n",
    "depression---count (percent)\n",
    "anxiety ---count (percent)\n",
    "met. acidosis ---count (percent)\n",
    "airway obs. ---count (percent)\n",
    "copd---count (percent)\n",
    "liver disease---count (percent)\n",
    "heart disease ---count (percent)\n",
    "mechvent. ---count (percent)\n",
    "\n",
    "mechvent. count---mean+-sd\n",
    "time to mechvent---mean+-sd\n",
    "(Treatment) drug group---X\n",
    "drug timelength---mean+-sd\n",
    "categories count---X\n",
    "\n",
    "(Outcome) time in mechvent---score-mean+-sd\n",
    "(Outcome) death timeline---count of cat.\n",
    "(Outcome) length of stay---score-mean+-sd"
   ]
  },
  {
   "cell_type": "code",
   "execution_count": 11,
   "metadata": {},
   "outputs": [],
   "source": [
    "def formatted(n):\n",
    "    return \"{:.2f}\".format(n)"
   ]
  },
  {
   "cell_type": "code",
   "execution_count": 12,
   "metadata": {},
   "outputs": [],
   "source": [
    "def get_count_data(feature):\n",
    "    # d = {\"total\": -1, \"hal\": -1, \"no-drug\": -1, \"other-drug\": -1}\n",
    "    d = {}\n",
    "    tot = data.shape[0]\n",
    "    hal = data[data['drug_group'] == 'HL'].shape[0]\n",
    "    no = data[data['drug_group'] == 'ND'].shape[0]\n",
    "    other = data[data['drug_group'] == 'OD'].shape[0]\n",
    "\n",
    "    d[\"name\"] = feature\n",
    "    d[\"total\"] = data[data[feature] == 1].shape[0]\n",
    "    d[\"total_percent\"] = formatted((d[\"total\"] * 100) / tot)\n",
    "    d[\"hal\"] = data[(data['drug_group'] == 'HL') & (data[feature] == 1)].shape[0]\n",
    "    d[\"hal_percent\"] = formatted((d[\"hal\"] * 100) / hal)\n",
    "    d[\"no\"] = data[(data['drug_group'] == 'ND') & (data[feature] == 1)].shape[0]\n",
    "    d[\"no_percent\"] = formatted((d[\"no\"] * 100) / no)\n",
    "    d[\"other\"] = data[(data['drug_group'] == 'OD') & (data[feature] == 1)].shape[0]\n",
    "    d[\"other_percent\"] = formatted((d[\"other\"] * 100) / other) \n",
    "    return d"
   ]
  },
  {
   "cell_type": "code",
   "execution_count": 13,
   "metadata": {},
   "outputs": [],
   "source": [
    "def get_mean_sd_data(feature):\n",
    "    d = {}\n",
    "    tot = data.shape[0]\n",
    "    hal = data[data['drug_group'] == 'HL'].shape[0]\n",
    "    no = data[data['drug_group'] == 'ND'].shape[0]\n",
    "    other = data[data['drug_group'] == 'OD'].shape[0]\n",
    "\n",
    "    d[\"name\"] = feature\n",
    "    d[\"total_mean\"] = formatted(data[feature].mean(skipna=True))\n",
    "    d[\"total_sd\"] = formatted(data[feature].std(skipna=True))\n",
    "    d[\"hal_mean\"] = formatted(data[data['drug_group'] == 'HL'][feature].mean(skipna=True))\n",
    "    d[\"hal_sd\"] = formatted(data[data['drug_group'] == 'HL'][feature].std(skipna=True))\n",
    "    d[\"no_mean\"] = formatted(data[data['drug_group'] == 'ND'][feature].mean(skipna=True))\n",
    "    d[\"no_sd\"] = formatted(data[data['drug_group'] == 'ND'][feature].std(skipna=True))\n",
    "    d[\"other_mean\"] = formatted(data[data['drug_group'] == 'OD'][feature].mean(skipna=True))\n",
    "    d[\"other_sd\"] = formatted(data[data['drug_group'] == 'OD'][feature].std(skipna=True))\n",
    "    return d"
   ]
  },
  {
   "cell_type": "code",
   "execution_count": 14,
   "metadata": {},
   "outputs": [],
   "source": [
    "tot = data.shape[0]\n",
    "hal = data[data['drug_group'] == 'HL'].shape[0]\n",
    "no = data[data['drug_group'] == 'ND'].shape[0]\n",
    "other = data[data['drug_group'] == 'OD'].shape[0]"
   ]
  },
  {
   "cell_type": "code",
   "execution_count": 15,
   "metadata": {},
   "outputs": [
    {
     "name": "stdout",
     "output_type": "stream",
     "text": [
      "1671 673 462 536\n"
     ]
    }
   ],
   "source": [
    "print(tot, hal, no, other)"
   ]
  },
  {
   "cell_type": "code",
   "execution_count": 16,
   "metadata": {},
   "outputs": [
    {
     "name": "stdout",
     "output_type": "stream",
     "text": [
      "{'name': 'sex', 'total': 701, 'total_percent': '41.95', 'hal': 232, 'hal_percent': '34.47', 'no': 216, 'no_percent': '46.75', 'other': 253, 'other_percent': '47.20'}\n"
     ]
    }
   ],
   "source": [
    "d = {}\n",
    "feature = \"sex\"\n",
    "d[\"name\"] = feature\n",
    "d[\"total\"] = data[data[feature] == 'F'].shape[0]\n",
    "d[\"total_percent\"] = formatted((d[\"total\"] * 100) / tot)\n",
    "d[\"hal\"] = data[(data['drug_group'] == 'HL') & (data[feature] == 'F')].shape[0]\n",
    "d[\"hal_percent\"] = formatted((d[\"hal\"] * 100) / hal)\n",
    "d[\"no\"] = data[(data['drug_group'] == 'ND') & (data[feature] == 'F')].shape[0]\n",
    "d[\"no_percent\"] = formatted((d[\"no\"] * 100) / no)\n",
    "d[\"other\"] = data[(data['drug_group'] == 'OD') & (data[feature] == 'F')].shape[0]\n",
    "d[\"other_percent\"] = formatted((d[\"other\"] * 100) / other)\n",
    "print(d)"
   ]
  },
  {
   "cell_type": "code",
   "execution_count": 17,
   "metadata": {},
   "outputs": [
    {
     "name": "stdout",
     "output_type": "stream",
     "text": [
      "{'name': 'race', 'total_w': 1312, 'total_w_p': '78.52', 'total_b': 123, 'total_b_p': '7.36', 'total_h': 43, 'total_h_p': '2.57', 'total_a': 27, 'total_a_p': '1.62', 'hal_w': 542, 'hal_w_p': '80.53', 'hal_b': 32, 'hal_b_p': '4.75', 'hal_h': 21, 'hal_h_p': '3.12', 'hal_a': 11, 'hal_a_p': '1.63', 'no_w': 419, 'no_w_p': '90.69', 'no_b': 42, 'no_b_p': '9.09', 'no_h': 11, 'no_h_p': '2.38', 'no_a': 5, 'no_a_p': '1.08', 'other_w': 419, 'other_w_p': '78.17', 'other_b': 42, 'other_b_p': '7.84', 'other_h': 11, 'other_h_p': '2.05', 'other_a': 5, 'other_a_p': '0.93'}\n"
     ]
    }
   ],
   "source": [
    "d = {}\n",
    "feature = \"race\"\n",
    "d[\"name\"] = feature\n",
    "\n",
    "d[\"total_w\"] = data[data[feature] == 1].shape[0]\n",
    "d[\"total_w_p\"] = formatted((d[\"total_w\"] * 100) / tot)\n",
    "d[\"total_b\"] = data[data[feature] == 2].shape[0]\n",
    "d[\"total_b_p\"] = formatted((d[\"total_b\"] * 100) / tot)\n",
    "d[\"total_h\"] = data[data[feature] == 3].shape[0]\n",
    "d[\"total_h_p\"] = formatted((d[\"total_h\"] * 100) / tot)\n",
    "d[\"total_a\"] = data[data[feature] == 4].shape[0]\n",
    "d[\"total_a_p\"] = formatted((d[\"total_a\"] * 100) / tot)\n",
    "\n",
    "d[\"hal_w\"] = data[(data['drug_group'] == 'HL') & (data[feature] == 1)].shape[0]\n",
    "d[\"hal_w_p\"] = formatted((d[\"hal_w\"] * 100) / hal)\n",
    "d[\"hal_b\"] = data[(data['drug_group'] == 'HL') & (data[feature] == 2)].shape[0]\n",
    "d[\"hal_b_p\"] = formatted((d[\"hal_b\"] * 100) / hal)\n",
    "d[\"hal_h\"] = data[(data['drug_group'] == 'HL') & (data[feature] == 3)].shape[0]\n",
    "d[\"hal_h_p\"] = formatted((d[\"hal_h\"] * 100) / hal)\n",
    "d[\"hal_a\"] = data[(data['drug_group'] == 'HL') & (data[feature] == 4)].shape[0]\n",
    "d[\"hal_a_p\"] = formatted((d[\"hal_a\"] * 100) / hal)\n",
    "\n",
    "d[\"no_w\"] = data[(data['drug_group'] == 'OD') & (data[feature] == 1)].shape[0]\n",
    "d[\"no_w_p\"] = formatted((d[\"no_w\"] * 100) / no)\n",
    "d[\"no_b\"] = data[(data['drug_group'] == 'OD') & (data[feature] == 2)].shape[0]\n",
    "d[\"no_b_p\"] = formatted((d[\"no_b\"] * 100) / no)\n",
    "d[\"no_h\"] = data[(data['drug_group'] == 'OD') & (data[feature] == 3)].shape[0]\n",
    "d[\"no_h_p\"] = formatted((d[\"no_h\"] * 100) / no)\n",
    "d[\"no_a\"] = data[(data['drug_group'] == 'OD') & (data[feature] == 4)].shape[0]\n",
    "d[\"no_a_p\"] = formatted((d[\"no_a\"] * 100) / no)\n",
    "\n",
    "d[\"other_w\"] = data[(data['drug_group'] == 'OD') & (data[feature] == 1)].shape[0]\n",
    "d[\"other_w_p\"] = formatted((d[\"other_w\"] * 100) / other)\n",
    "d[\"other_b\"] = data[(data['drug_group'] == 'OD') & (data[feature] == 2)].shape[0]\n",
    "d[\"other_b_p\"] = formatted((d[\"other_b\"] * 100) / other)\n",
    "d[\"other_h\"] = data[(data['drug_group'] == 'OD') & (data[feature] == 3)].shape[0]\n",
    "d[\"other_h_p\"] = formatted((d[\"other_h\"] * 100) / other)\n",
    "d[\"other_a\"] = data[(data['drug_group'] == 'OD') & (data[feature] == 4)].shape[0]\n",
    "d[\"other_a_p\"] = formatted((d[\"other_a\"] * 100) / other)\n",
    "\n",
    "print(d)"
   ]
  },
  {
   "cell_type": "code",
   "execution_count": 18,
   "metadata": {},
   "outputs": [
    {
     "name": "stdout",
     "output_type": "stream",
     "text": [
      "{'name': 'surgery', 'total': 866, 'total_percent': '51.83', 'hal': 376, 'hal_percent': '55.87', 'no': 190, 'no_percent': '41.13', 'other': 300, 'other_percent': '55.97'}\n",
      "{'name': 'pneumonia', 'total': 484, 'total_percent': '28.96', 'hal': 192, 'hal_percent': '28.53', 'no': 109, 'no_percent': '23.59', 'other': 183, 'other_percent': '34.14'}\n",
      "{'name': 'sepsis', 'total': 375, 'total_percent': '22.44', 'hal': 147, 'hal_percent': '21.84', 'no': 103, 'no_percent': '22.29', 'other': 125, 'other_percent': '23.32'}\n",
      "{'name': 'dementia', 'total': 65, 'total_percent': '3.89', 'hal': 14, 'hal_percent': '2.08', 'no': 21, 'no_percent': '4.55', 'other': 30, 'other_percent': '5.60'}\n",
      "{'name': 'alzheimers', 'total': 78, 'total_percent': '4.67', 'hal': 19, 'hal_percent': '2.82', 'no': 21, 'no_percent': '4.55', 'other': 38, 'other_percent': '7.09'}\n",
      "{'name': 'depression', 'total': 254, 'total_percent': '15.20', 'hal': 86, 'hal_percent': '12.78', 'no': 63, 'no_percent': '13.64', 'other': 105, 'other_percent': '19.59'}\n",
      "{'name': 'anxiety', 'total': 91, 'total_percent': '5.45', 'hal': 36, 'hal_percent': '5.35', 'no': 18, 'no_percent': '3.90', 'other': 37, 'other_percent': '6.90'}\n",
      "{'name': 'met_acidosis', 'total': 67, 'total_percent': '4.01', 'hal': 30, 'hal_percent': '4.46', 'no': 15, 'no_percent': '3.25', 'other': 22, 'other_percent': '4.10'}\n",
      "{'name': 'airway_obs', 'total': 175, 'total_percent': '10.47', 'hal': 60, 'hal_percent': '8.92', 'no': 40, 'no_percent': '8.66', 'other': 75, 'other_percent': '13.99'}\n",
      "{'name': 'copd', 'total': 204, 'total_percent': '12.21', 'hal': 74, 'hal_percent': '11.00', 'no': 49, 'no_percent': '10.61', 'other': 81, 'other_percent': '15.11'}\n",
      "{'name': 'liver_disease', 'total': 97, 'total_percent': '5.80', 'hal': 39, 'hal_percent': '5.79', 'no': 26, 'no_percent': '5.63', 'other': 32, 'other_percent': '5.97'}\n",
      "{'name': 'heart_disease', 'total': 1035, 'total_percent': '61.94', 'hal': 431, 'hal_percent': '64.04', 'no': 276, 'no_percent': '59.74', 'other': 328, 'other_percent': '61.19'}\n",
      "{'name': 'mechvent', 'total': 854, 'total_percent': '51.11', 'hal': 393, 'hal_percent': '58.40', 'no': 188, 'no_percent': '40.69', 'other': 273, 'other_percent': '50.93'}\n",
      "{'name': 'drug_timelength', 'total': 10, 'total_percent': '0.60', 'hal': 1, 'hal_percent': '0.15', 'no': 6, 'no_percent': '1.30', 'other': 3, 'other_percent': '0.56'}\n"
     ]
    }
   ],
   "source": [
    "print(get_count_data(\"surgery\"))\n",
    "print(get_count_data(\"pneumonia\"))\n",
    "print(get_count_data(\"sepsis\"))\n",
    "print(get_count_data(\"dementia\"))\n",
    "print(get_count_data(\"alzheimers\"))\n",
    "print(get_count_data(\"depression\"))\n",
    "print(get_count_data(\"anxiety\"))\n",
    "print(get_count_data(\"met_acidosis\"))\n",
    "print(get_count_data(\"airway_obs\"))\n",
    "print(get_count_data(\"copd\"))\n",
    "print(get_count_data(\"liver_disease\"))\n",
    "print(get_count_data(\"heart_disease\"))\n",
    "print(get_count_data(\"mechvent\"))\n",
    "print(get_count_data(\"drug_timelength\"))"
   ]
  },
  {
   "cell_type": "code",
   "execution_count": 19,
   "metadata": {},
   "outputs": [
    {
     "name": "stdout",
     "output_type": "stream",
     "text": [
      "{'name': 'sofa', 'total_mean': '4.93', 'total_sd': '3.15', 'hal_mean': '5.03', 'hal_sd': '3.12', 'no_mean': '4.64', 'no_sd': '3.05', 'other_mean': '5.06', 'other_sd': '3.27'}\n",
      "{'name': 'age', 'total_mean': '70.47', 'total_sd': '15.45', 'hal_mean': '69.59', 'hal_sd': '15.63', 'no_mean': '72.10', 'no_sd': '14.71', 'other_mean': '70.17', 'other_sd': '15.77'}\n",
      "{'name': 'apsiii', 'total_mean': '49.21', 'total_sd': '20.19', 'hal_mean': '48.87', 'hal_sd': '19.97', 'no_mean': '48.69', 'no_sd': '20.03', 'other_mean': '50.06', 'other_sd': '20.60'}\n",
      "{'name': 'los_days', 'total_mean': '6.13', 'total_sd': '7.56', 'hal_mean': '7.08', 'hal_sd': '8.08', 'no_mean': '4.10', 'no_sd': '5.66', 'other_mean': '6.70', 'other_sd': '7.98'}\n"
     ]
    }
   ],
   "source": [
    "print(get_mean_sd_data(\"sofa\"))\n",
    "print(get_mean_sd_data(\"age\"))\n",
    "print(get_mean_sd_data(\"apsiii\"))\n",
    "print(get_mean_sd_data(\"los_days\"))"
   ]
  },
  {
   "cell_type": "code",
   "execution_count": 20,
   "metadata": {},
   "outputs": [
    {
     "name": "stdout",
     "output_type": "stream",
     "text": [
      "{'name': 'death_timeline', 'total_1': 311, 'total_1_p': '18.61', 'total_2': 108, 'total_2_p': '6.46', 'total_3': 175, 'total_3_p': '10.47', 'total_4': 255, 'total_4_p': '15.26', 'hal_1': 138, 'hal_1_p': '20.51', 'hal_2': 28, 'hal_2_p': '4.16', 'hal_3': 64, 'hal_3_p': '9.51', 'hal_4': 101, 'hal_4_p': '15.01', 'no_1': 97, 'no_1_p': '21.00', 'no_2': 43, 'no_2_p': '9.31', 'no_3': 54, 'no_3_p': '11.69', 'no_4': 81, 'no_4_p': '17.53', 'other_1': 97, 'other_1_p': '18.10', 'other_2': 43, 'other_2_p': '8.02', 'other_3': 54, 'other_3_p': '10.07', 'other_4': 81, 'other_4_p': '15.11'}\n"
     ]
    }
   ],
   "source": [
    "d = {}\n",
    "feature = \"death_timeline\"\n",
    "\n",
    "d[\"name\"] = feature\n",
    "\n",
    "d[\"total_1\"] = data[data[feature] == 1].shape[0]\n",
    "d[\"total_1_p\"] = formatted((d[\"total_1\"] * 100) / tot)\n",
    "d[\"total_2\"] = data[data[feature] == 2].shape[0]\n",
    "d[\"total_2_p\"] = formatted((d[\"total_2\"] * 100) / tot)\n",
    "d[\"total_3\"] = data[data[feature] == 3].shape[0]\n",
    "d[\"total_3_p\"] = formatted((d[\"total_3\"] * 100) / tot)\n",
    "d[\"total_4\"] = data[data[feature] == 4].shape[0]\n",
    "d[\"total_4_p\"] = formatted((d[\"total_4\"] * 100) / tot)\n",
    "\n",
    "d[\"hal_1\"] = data[(data['drug_group'] == 'HL') & (data[feature] == 1)].shape[0]\n",
    "d[\"hal_1_p\"] = formatted((d[\"hal_1\"] * 100) / hal)\n",
    "d[\"hal_2\"] = data[(data['drug_group'] == 'HL') & (data[feature] == 2)].shape[0]\n",
    "d[\"hal_2_p\"] = formatted((d[\"hal_2\"] * 100) / hal)\n",
    "d[\"hal_3\"] = data[(data['drug_group'] == 'HL') & (data[feature] == 3)].shape[0]\n",
    "d[\"hal_3_p\"] = formatted((d[\"hal_3\"] * 100) / hal)\n",
    "d[\"hal_4\"] = data[(data['drug_group'] == 'HL') & (data[feature] == 4)].shape[0]\n",
    "d[\"hal_4_p\"] = formatted((d[\"hal_4\"] * 100) / hal)\n",
    "\n",
    "d[\"no_1\"] = data[(data['drug_group'] == 'OD') & (data[feature] == 1)].shape[0]\n",
    "d[\"no_1_p\"] = formatted((d[\"no_1\"] * 100) / no)\n",
    "d[\"no_2\"] = data[(data['drug_group'] == 'OD') & (data[feature] == 2)].shape[0]\n",
    "d[\"no_2_p\"] = formatted((d[\"no_2\"] * 100) / no)\n",
    "d[\"no_3\"] = data[(data['drug_group'] == 'OD') & (data[feature] == 3)].shape[0]\n",
    "d[\"no_3_p\"] = formatted((d[\"no_3\"] * 100) / no)\n",
    "d[\"no_4\"] = data[(data['drug_group'] == 'OD') & (data[feature] == 4)].shape[0]\n",
    "d[\"no_4_p\"] = formatted((d[\"no_4\"] * 100) / no)\n",
    "\n",
    "d[\"other_1\"] = data[(data['drug_group'] == 'OD') & (data[feature] == 1)].shape[0]\n",
    "d[\"other_1_p\"] = formatted((d[\"other_1\"] * 100) / other)\n",
    "d[\"other_2\"] = data[(data['drug_group'] == 'OD') & (data[feature] == 2)].shape[0]\n",
    "d[\"other_2_p\"] = formatted((d[\"other_2\"] * 100) / other)\n",
    "d[\"other_3\"] = data[(data['drug_group'] == 'OD') & (data[feature] == 3)].shape[0]\n",
    "d[\"other_3_p\"] = formatted((d[\"other_3\"] * 100) / other)\n",
    "d[\"other_4\"] = data[(data['drug_group'] == 'OD') & (data[feature] == 4)].shape[0]\n",
    "d[\"other_4_p\"] = formatted((d[\"other_4\"] * 100) / other)\n",
    "\n",
    "print(d)"
   ]
  },
  {
   "cell_type": "markdown",
   "metadata": {},
   "source": [
    "---\n",
    "\n",
    "# New Plots"
   ]
  },
  {
   "cell_type": "code",
   "execution_count": 21,
   "metadata": {},
   "outputs": [
    {
     "data": {
      "image/png": "[encoded data removed]",
      "text/plain": [
       "<Figure size 640x480 with 1 Axes>"
      ]
     },
     "metadata": {},
     "output_type": "display_data"
    }
   ],
   "source": [
    "covariates = (\"heart_disease\",\"mechvent\",\"surgery\",\"pneumonia\",\"sepsis\")\n",
    "\n",
    "colors = {\n",
    "    \"Haloperdol\": '#3376BD',\n",
    "    \"Other drugs\": '#EDAE49',\n",
    "    \"No drugs\": '#E63946',\n",
    "}\n",
    "\n",
    "patient_counts = {\n",
    "    \"Haloperdol\": np.array([431,393,376,192,147]),\n",
    "    \"Other drugs\": np.array([328,273,300,183,125]),\n",
    "    \"No drugs\": np.array([276,188,190,109,103]),\n",
    "}\n",
    "width = 0.5\n",
    "\n",
    "fig, ax = plt.subplots()\n",
    "bottom = np.zeros(5)\n",
    "\n",
    "for key, value in patient_counts.items():\n",
    "    p = ax.bar(covariates, value, width, label=key, bottom=bottom, color=colors[key])\n",
    "    bottom += value\n",
    "\n",
    "totals = []\n",
    "for i in range(len(patient_counts['Haloperdol'])):\n",
    "    totals.append(patient_counts['Haloperdol'][i]+patient_counts['No drugs'][i]+patient_counts['Other drugs'][i])\n",
    "# totals = patient_counts.sum(axis=1)\n",
    "\n",
    "y_offset = 10\n",
    "for i, total in enumerate(totals):\n",
    "    ax.text(i, total + y_offset, round(total), ha='center', weight='bold')\n",
    "\n",
    "# Let's put the annotations inside the bars themselves by using a\n",
    "# negative offset.\n",
    "y_offset = -30\n",
    "# For each patch (basically each rectangle within the bar), add a label.\n",
    "for bar in ax.patches:\n",
    "    ax.text(\n",
    "      # Put the text in the middle of each bar. get_x returns the start\n",
    "      # so we add half the width to get to the middle.\n",
    "      bar.get_x() + bar.get_width() / 2,\n",
    "      # Vertically, add the height of the bar to the start of the bar,\n",
    "      # along with the offset.\n",
    "      bar.get_height() + bar.get_y() + y_offset,\n",
    "      # This is actual value we'll show.\n",
    "      round(bar.get_height()),\n",
    "      # Center the labels and style them a bit.\n",
    "      ha='center',\n",
    "      color='w',\n",
    "      weight='bold',\n",
    "      size=8\n",
    "  )\n",
    "\n",
    "\n",
    "# ax.set_title(\"Count of medical incidents for patient population\")\n",
    "ax.legend(loc=\"upper right\")\n",
    "\n",
    "plt.savefig('five_feat_bar.png', dpi=300, bbox_inches='tight')\n",
    "# plt.show()"
   ]
  },
  {
   "cell_type": "code",
   "execution_count": 22,
   "metadata": {},
   "outputs": [
    {
     "data": {
      "image/png": "[encoded data removed]",
      "text/plain": [
       "<Figure size 640x480 with 1 Axes>"
      ]
     },
     "metadata": {},
     "output_type": "display_data"
    }
   ],
   "source": [
    "covariates = (\"depression\",\"copd\",\"airway_obs\",\"liver_disease\",\"anxiety\",\"alzheimers\",\"met_acidosis\",\"dementia\")\n",
    "\n",
    "colors = {\n",
    "    \"Haloperdol\": '#3376BD',\n",
    "    \"Other drugs\": '#EDAE49',\n",
    "    \"No drugs\": '#E63946',\n",
    "}\n",
    "\n",
    "patient_counts = {\n",
    "    \"Haloperdol\": np.array([86,74,60,39,36,19,30,14]),\n",
    "    \"Other drugs\": np.array([105,81,75,32,37,38,22,30]),\n",
    "    \"No drugs\": np.array([63,49,40,26,18,21,15,21]),\n",
    "}\n",
    "width = 0.5\n",
    "\n",
    "fig, ax = plt.subplots()\n",
    "bottom = np.zeros(8)\n",
    "\n",
    "plt.xticks(fontsize=7)\n",
    "\n",
    "for key, value in patient_counts.items():\n",
    "    p = ax.bar(covariates, value, width, label=key, bottom=bottom, color=colors[key])\n",
    "    bottom += value\n",
    "\n",
    "totals = []\n",
    "for i in range(len(patient_counts['Haloperdol'])):\n",
    "    totals.append(patient_counts['Haloperdol'][i]+patient_counts['No drugs'][i]+patient_counts['Other drugs'][i])\n",
    "# totals = patient_counts.sum(axis=1)\n",
    "\n",
    "y_offset = 3\n",
    "for i, total in enumerate(totals):\n",
    "    ax.text(i, total + y_offset, round(total), ha='center', weight='bold')\n",
    "\n",
    "# Let's put the annotations inside the bars themselves by using a\n",
    "# negative offset.\n",
    "y_offset = -10\n",
    "# For each patch (basically each rectangle within the bar), add a label.\n",
    "for bar in ax.patches:\n",
    "    ax.text(\n",
    "      # Put the text in the middle of each bar. get_x returns the start\n",
    "      # so we add half the width to get to the middle.\n",
    "      bar.get_x() + bar.get_width() / 2,\n",
    "      # Vertically, add the height of the bar to the start of the bar,\n",
    "      # along with the offset.\n",
    "      bar.get_height() + bar.get_y() + y_offset,\n",
    "      # This is actual value we'll show.\n",
    "      round(bar.get_height()),\n",
    "      # Center the labels and style them a bit.\n",
    "      ha='center',\n",
    "      color='w',\n",
    "      weight='bold',\n",
    "      size=8\n",
    "  )\n",
    "\n",
    "\n",
    "# ax.set_title(\"Count of medical incidents for patient population\")\n",
    "ax.legend(loc=\"upper right\")\n",
    "\n",
    "plt.savefig('eight_feat_bar.png', dpi=300, bbox_inches='tight')\n",
    "# plt.show()"
   ]
  },
  {
   "cell_type": "code",
   "execution_count": 23,
   "metadata": {},
   "outputs": [
    {
     "data": {
      "text/html": [
       "<div>\n",
       "<style scoped>\n",
       "    .dataframe tbody tr th:only-of-type {\n",
       "        vertical-align: middle;\n",
       "    }\n",
       "\n",
       "    .dataframe tbody tr th {\n",
       "        vertical-align: top;\n",
       "    }\n",
       "\n",
       "    .dataframe thead th {\n",
       "        text-align: right;\n",
       "    }\n",
       "</style>\n",
       "<table border=\"1\" class=\"dataframe\">\n",
       "  <thead>\n",
       "    <tr style=\"text-align: right;\">\n",
       "      <th></th>\n",
       "      <th>agebin</th>\n",
       "    </tr>\n",
       "    <tr>\n",
       "      <th>agebin</th>\n",
       "      <th></th>\n",
       "    </tr>\n",
       "  </thead>\n",
       "  <tbody>\n",
       "    <tr>\n",
       "      <th>(0, 15]</th>\n",
       "      <td>0</td>\n",
       "    </tr>\n",
       "    <tr>\n",
       "      <th>(15, 25]</th>\n",
       "      <td>16</td>\n",
       "    </tr>\n",
       "    <tr>\n",
       "      <th>(25, 35]</th>\n",
       "      <td>26</td>\n",
       "    </tr>\n",
       "    <tr>\n",
       "      <th>(35, 45]</th>\n",
       "      <td>73</td>\n",
       "    </tr>\n",
       "    <tr>\n",
       "      <th>(45, 55]</th>\n",
       "      <td>168</td>\n",
       "    </tr>\n",
       "  </tbody>\n",
       "</table>\n",
       "</div>"
      ],
      "text/plain": [
       "          agebin\n",
       "agebin          \n",
       "(0, 15]        0\n",
       "(15, 25]      16\n",
       "(25, 35]      26\n",
       "(35, 45]      73\n",
       "(45, 55]     168"
      ]
     },
     "execution_count": 23,
     "metadata": {},
     "output_type": "execute_result"
    }
   ],
   "source": [
    "data['agebin'] = pd.cut(data['age'], [0, 15, 25, 35, 45, 55, 65, 75, 85, 95]) # , labels=['0-50', '50-100', '100-200']\n",
    "\n",
    "agebin = data.groupby(['agebin'])['agebin'].count() # this is pd series\n",
    "df = pd.DataFrame([agebin]).transpose() # this is now dataframe\n",
    "df.head()"
   ]
  },
  {
   "cell_type": "code",
   "execution_count": 24,
   "metadata": {},
   "outputs": [
    {
     "data": {
      "image/png": "[encoded data removed]",
      "text/plain": [
       "<Figure size 500x350 with 1 Axes>"
      ]
     },
     "metadata": {},
     "output_type": "display_data"
    }
   ],
   "source": [
    "# we first need a numeric placeholder for the y axis\n",
    "my_range=list(range(1,len(df.index)+1))\n",
    "\n",
    "fig, ax = plt.subplots(figsize=(5,3.5))\n",
    "\n",
    "# create for each expense type an horizontal line that starts at x = 0 with the length \n",
    "# represented by the specific expense percentage value.\n",
    "plt.hlines(y=my_range, xmin=0, xmax=df['agebin'], color='#007ACC', alpha=0.4, linewidth=5)\n",
    "\n",
    "# create for each expense type a dot at the level of the expense percentage value\n",
    "plt.plot(df['agebin'], my_range, \"o\", markersize=5, color='#007ACC', alpha=0.8)\n",
    "\n",
    "# set labels\n",
    "ax.set_xlabel('Count of Patients', fontsize=15, fontweight='black', color = '#333F4B')\n",
    "ax.set_ylabel('')\n",
    "\n",
    "# set axis\n",
    "ax.tick_params(axis='both', which='major', labelsize=12)\n",
    "plt.yticks(my_range, df.index)\n",
    "\n",
    "# add an horizonal label for the y axis \n",
    "fig.text(0, 0.92, 'Age Group', fontsize=15, fontweight='black', color = '#333F4B')\n",
    "\n",
    "# change the style of the axis spines\n",
    "ax.spines['top'].set_visible(False)\n",
    "ax.spines['right'].set_visible(False)\n",
    "\n",
    "ax.spines['left'].set_bounds((1, len(my_range)))\n",
    "# ax.set_xlim(0,25)\n",
    "\n",
    "ax.spines['left'].set_position(('outward', 8))\n",
    "ax.spines['bottom'].set_position(('outward', 5))\n",
    "\n",
    "plt.savefig('age_bar.png', dpi=300, bbox_inches='tight')\n",
    "# plt.show()"
   ]
  },
  {
   "cell_type": "code",
   "execution_count": 25,
   "metadata": {},
   "outputs": [
    {
     "data": {
      "text/html": [
       "<div>\n",
       "<style scoped>\n",
       "    .dataframe tbody tr th:only-of-type {\n",
       "        vertical-align: middle;\n",
       "    }\n",
       "\n",
       "    .dataframe tbody tr th {\n",
       "        vertical-align: top;\n",
       "    }\n",
       "\n",
       "    .dataframe thead th {\n",
       "        text-align: right;\n",
       "    }\n",
       "</style>\n",
       "<table border=\"1\" class=\"dataframe\">\n",
       "  <thead>\n",
       "    <tr style=\"text-align: right;\">\n",
       "      <th></th>\n",
       "      <th>losbin</th>\n",
       "    </tr>\n",
       "    <tr>\n",
       "      <th>losbin</th>\n",
       "      <th></th>\n",
       "    </tr>\n",
       "  </thead>\n",
       "  <tbody>\n",
       "    <tr>\n",
       "      <th>(0, 2]</th>\n",
       "      <td>483</td>\n",
       "    </tr>\n",
       "    <tr>\n",
       "      <th>(2, 4]</th>\n",
       "      <td>433</td>\n",
       "    </tr>\n",
       "    <tr>\n",
       "      <th>(4, 6]</th>\n",
       "      <td>243</td>\n",
       "    </tr>\n",
       "    <tr>\n",
       "      <th>(6, 8]</th>\n",
       "      <td>128</td>\n",
       "    </tr>\n",
       "    <tr>\n",
       "      <th>(8, 10]</th>\n",
       "      <td>88</td>\n",
       "    </tr>\n",
       "  </tbody>\n",
       "</table>\n",
       "</div>"
      ],
      "text/plain": [
       "         losbin\n",
       "losbin         \n",
       "(0, 2]      483\n",
       "(2, 4]      433\n",
       "(4, 6]      243\n",
       "(6, 8]      128\n",
       "(8, 10]      88"
      ]
     },
     "execution_count": 25,
     "metadata": {},
     "output_type": "execute_result"
    }
   ],
   "source": [
    "data['losbin'] = pd.cut(data['los_days'], [0, 2, 4, 6, 8, 10, 12, 14, 16, 18, 20, 30, 40, 50, 60, 70, 80, 90, 100]) # , labels=['0-50', '50-100', '100-200']\n",
    "\n",
    "losbin = data.groupby(['losbin'])['losbin'].count() # this is pd series\n",
    "df = pd.DataFrame([losbin]).transpose() # this is now dataframe\n",
    "df.head()"
   ]
  },
  {
   "cell_type": "code",
   "execution_count": 26,
   "metadata": {},
   "outputs": [
    {
     "data": {
      "image/png": "[encoded data removed]",
      "text/plain": [
       "<Figure size 500x500 with 1 Axes>"
      ]
     },
     "metadata": {},
     "output_type": "display_data"
    }
   ],
   "source": [
    "# we first need a numeric placeholder for the y axis\n",
    "my_range=list(range(1,len(df.index)+1))\n",
    "\n",
    "fig, ax = plt.subplots(figsize=(5,5))\n",
    "\n",
    "# create for each expense type an horizontal line that starts at x = 0 with the length \n",
    "# represented by the specific expense percentage value.\n",
    "plt.hlines(y=my_range, xmin=0, xmax=df['losbin'], color='#007ACC', alpha=0.4, linewidth=5)\n",
    "\n",
    "# create for each expense type a dot at the level of the expense percentage value\n",
    "plt.plot(df['losbin'], my_range, \"o\", markersize=5, color='#007ACC', alpha=0.8)\n",
    "\n",
    "# set labels\n",
    "ax.set_xlabel('Count of Patients', fontsize=15, fontweight='black', color = '#333F4B')\n",
    "ax.set_ylabel('')\n",
    "\n",
    "# set axis\n",
    "ax.tick_params(axis='both', which='major', labelsize=12)\n",
    "plt.yticks(my_range, df.index)\n",
    "\n",
    "# add an horizonal label for the y axis \n",
    "fig.text(0, 0.9, 'Length-of-Stay (Uneven groups)', fontsize=15, fontweight='black', color = '#333F4B')\n",
    "\n",
    "# change the style of the axis spines\n",
    "ax.spines['top'].set_visible(False)\n",
    "ax.spines['right'].set_visible(False)\n",
    "\n",
    "ax.spines['left'].set_bounds((1, len(my_range)))\n",
    "# ax.set_xlim(0,25)\n",
    "\n",
    "ax.spines['left'].set_position(('outward', 8))\n",
    "ax.spines['bottom'].set_position(('outward', 5))\n",
    "\n",
    "plt.savefig('los_bar.png', dpi=300, bbox_inches='tight')\n",
    "# plt.show()"
   ]
  },
  {
   "cell_type": "code",
   "execution_count": null,
   "metadata": {},
   "outputs": [],
   "source": []
  }
 ],
 "metadata": {
  "kernelspec": {
   "display_name": "Python 3 (ipykernel)",
   "language": "python",
   "name": "python3"
  },
  "language_info": {
   "codemirror_mode": {
    "name": "ipython",
    "version": 3
   },
   "file_extension": ".py",
   "mimetype": "text/x-python",
   "name": "python",
   "nbconvert_exporter": "python",
   "pygments_lexer": "ipython3",
   "version": "3.9.15"
  }
 },
 "nbformat": 4,
 "nbformat_minor": 4
}
